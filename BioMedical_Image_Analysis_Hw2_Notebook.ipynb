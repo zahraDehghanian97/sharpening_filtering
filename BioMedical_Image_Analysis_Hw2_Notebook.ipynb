{
  "cells": [
    {
      "cell_type": "markdown",
      "metadata": {
        "id": "view-in-github",
        "colab_type": "text"
      },
      "source": [
        "<a href=\"https://colab.research.google.com/github/zahraDehghanian97/sharpening_filtering/blob/master/BioMedical_Image_Analysis_Hw2_Notebook.ipynb\" target=\"_parent\"><img src=\"https://colab.research.google.com/assets/colab-badge.svg\" alt=\"Open In Colab\"/></a>"
      ]
    },
    {
      "cell_type": "markdown",
      "id": "08a5e563",
      "metadata": {
        "id": "08a5e563"
      },
      "source": [
        "**Please insert your full name:** Zahra Dehghanian\n",
        "\n",
        "**And your student number:** 401300417\n",
        "\n",
        "\n",
        "\n",
        "---\n",
        "\n"
      ]
    },
    {
      "cell_type": "markdown",
      "source": [
        "# Q1 (Sharpening)\n"
      ],
      "metadata": {
        "id": "uxOBFVWNio01"
      },
      "id": "uxOBFVWNio01"
    },
    {
      "cell_type": "markdown",
      "id": "34819c4d",
      "metadata": {
        "id": "34819c4d"
      },
      "source": [
        "## Import dependencies:"
      ]
    },
    {
      "cell_type": "code",
      "execution_count": null,
      "id": "6938c7d0",
      "metadata": {
        "id": "6938c7d0"
      },
      "outputs": [],
      "source": []
    },
    {
      "cell_type": "markdown",
      "id": "6ec85c98",
      "metadata": {
        "id": "6ec85c98"
      },
      "source": [
        "## Read the image and use four different methods to sharpen the image. Briefly discuss your main approach in each of the methods.\n",
        "\n",
        "You are allowed to use any kind of different methods. The recommanded ones are as follow:\n",
        "\n",
        "1) unsharp mask filter\n",
        "\n",
        "2) second deriative or guassian laplacian\n",
        "\n",
        "3) unsharp mask in frequency domain\n",
        "\n",
        "4) laplacian in frequency domain , sharpening with laplacian"
      ]
    },
    {
      "cell_type": "markdown",
      "id": "01e67750",
      "metadata": {
        "id": "01e67750"
      },
      "source": [
        "## First Method"
      ]
    },
    {
      "cell_type": "code",
      "execution_count": null,
      "id": "57193a9c",
      "metadata": {
        "id": "57193a9c"
      },
      "outputs": [],
      "source": []
    },
    {
      "cell_type": "markdown",
      "id": "75f760cd",
      "metadata": {
        "id": "75f760cd"
      },
      "source": [
        "## Second Method"
      ]
    },
    {
      "cell_type": "code",
      "execution_count": null,
      "id": "7f2f7c89",
      "metadata": {
        "id": "7f2f7c89"
      },
      "outputs": [],
      "source": []
    },
    {
      "cell_type": "markdown",
      "id": "abf7b073",
      "metadata": {
        "id": "abf7b073"
      },
      "source": [
        "## Third Method"
      ]
    },
    {
      "cell_type": "code",
      "execution_count": null,
      "id": "bb927172",
      "metadata": {
        "id": "bb927172"
      },
      "outputs": [],
      "source": []
    },
    {
      "cell_type": "markdown",
      "id": "fe527795",
      "metadata": {
        "id": "fe527795"
      },
      "source": [
        "## Forth Method"
      ]
    },
    {
      "cell_type": "code",
      "execution_count": null,
      "id": "ddac0723",
      "metadata": {
        "id": "ddac0723"
      },
      "outputs": [],
      "source": []
    },
    {
      "cell_type": "markdown",
      "id": "9e3cb859",
      "metadata": {
        "id": "9e3cb859"
      },
      "source": [
        "### Compare different methods quality and time."
      ]
    },
    {
      "cell_type": "markdown",
      "id": "40b07ecf",
      "metadata": {
        "id": "40b07ecf"
      },
      "source": []
    },
    {
      "cell_type": "code",
      "execution_count": null,
      "id": "81cc3f35",
      "metadata": {
        "id": "81cc3f35"
      },
      "outputs": [],
      "source": []
    },
    {
      "cell_type": "markdown",
      "source": [
        "# Q2(Filtering)"
      ],
      "metadata": {
        "id": "YUd-gaT1iz8U"
      },
      "id": "YUd-gaT1iz8U"
    },
    {
      "cell_type": "markdown",
      "source": [
        "## Import dependencies:"
      ],
      "metadata": {
        "id": "o9uhsG2bi2VE"
      },
      "id": "o9uhsG2bi2VE"
    },
    {
      "cell_type": "code",
      "source": [],
      "metadata": {
        "id": "FjPYlcQni4t9"
      },
      "id": "FjPYlcQni4t9",
      "execution_count": null,
      "outputs": []
    },
    {
      "cell_type": "markdown",
      "source": [
        "## Section 1"
      ],
      "metadata": {
        "id": "WVe7wFXFi9qb"
      },
      "id": "WVe7wFXFi9qb"
    },
    {
      "cell_type": "markdown",
      "source": [
        "#### Sobel"
      ],
      "metadata": {
        "id": "u8inzSdXi_Yv"
      },
      "id": "u8inzSdXi_Yv"
    },
    {
      "cell_type": "code",
      "source": [],
      "metadata": {
        "id": "s0n_PfELjBN8"
      },
      "id": "s0n_PfELjBN8",
      "execution_count": null,
      "outputs": []
    },
    {
      "cell_type": "markdown",
      "source": [
        "#### gaussian"
      ],
      "metadata": {
        "id": "j_NnuaJvjBwU"
      },
      "id": "j_NnuaJvjBwU"
    },
    {
      "cell_type": "code",
      "source": [],
      "metadata": {
        "id": "VU6i4ev1jISM"
      },
      "id": "VU6i4ev1jISM",
      "execution_count": null,
      "outputs": []
    },
    {
      "cell_type": "markdown",
      "source": [
        "#### laplacian"
      ],
      "metadata": {
        "id": "-LDsnQfojItn"
      },
      "id": "-LDsnQfojItn"
    },
    {
      "cell_type": "code",
      "source": [],
      "metadata": {
        "id": "OAjiieNkjTll"
      },
      "id": "OAjiieNkjTll",
      "execution_count": null,
      "outputs": []
    },
    {
      "cell_type": "markdown",
      "source": [
        "## Section 2"
      ],
      "metadata": {
        "id": "IPGIcqpfjT08"
      },
      "id": "IPGIcqpfjT08"
    },
    {
      "cell_type": "code",
      "source": [],
      "metadata": {
        "id": "S6R3xHcfjV5G"
      },
      "id": "S6R3xHcfjV5G",
      "execution_count": null,
      "outputs": []
    },
    {
      "cell_type": "markdown",
      "source": [
        "## Compare and contrast results"
      ],
      "metadata": {
        "id": "zlU8xN7ejdod"
      },
      "id": "zlU8xN7ejdod"
    }
  ],
  "metadata": {
    "kernelspec": {
      "display_name": "Python 3 (ipykernel)",
      "language": "python",
      "name": "python3"
    },
    "language_info": {
      "codemirror_mode": {
        "name": "ipython",
        "version": 3
      },
      "file_extension": ".py",
      "mimetype": "text/x-python",
      "name": "python",
      "nbconvert_exporter": "python",
      "pygments_lexer": "ipython3",
      "version": "3.8.10"
    },
    "colab": {
      "provenance": [],
      "collapsed_sections": [
        "WVe7wFXFi9qb"
      ],
      "include_colab_link": true
    }
  },
  "nbformat": 4,
  "nbformat_minor": 5
}